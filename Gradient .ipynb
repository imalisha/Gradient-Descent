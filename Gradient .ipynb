{
 "cells": [
  {
   "cell_type": "markdown",
   "id": "eb2e35f4",
   "metadata": {},
   "source": [
    "# Optional Lab: Gradient Descent for Linear Regression"
   ]
  },
  {
   "cell_type": "code",
   "execution_count": 2,
   "id": "c60c50cc",
   "metadata": {},
   "outputs": [
    {
     "ename": "SyntaxError",
     "evalue": "trailing comma not allowed without surrounding parentheses (1540041293.py, line 5)",
     "output_type": "error",
     "traceback": [
      "\u001b[1;36m  Cell \u001b[1;32mIn[2], line 5\u001b[1;36m\u001b[0m\n\u001b[1;33m    from lab_utils_uni import plt_house_x, plt_contour_wgrad,\u001b[0m\n\u001b[1;37m                                                              ^\u001b[0m\n\u001b[1;31mSyntaxError\u001b[0m\u001b[1;31m:\u001b[0m trailing comma not allowed without surrounding parentheses\n"
     ]
    }
   ],
   "source": [
    "import math, copy\n",
    "import numpy as np\n",
    "import matplotlib.pyplot as plt\n",
    "plt.style.use('./deeplearning.mplstyle')\n",
    "from lab_utils_uni import plt_house_x, plt_contour_wgrad, \n",
    "plt_divergence, plt_gradients"
   ]
  },
  {
   "cell_type": "code",
   "execution_count": 4,
   "id": "d0b29ed7",
   "metadata": {},
   "outputs": [
    {
     "ename": "NameError",
     "evalue": "name 'np' is not defined",
     "output_type": "error",
     "traceback": [
      "\u001b[1;31m---------------------------------------------------------------------------\u001b[0m",
      "\u001b[1;31mNameError\u001b[0m                                 Traceback (most recent call last)",
      "Cell \u001b[1;32mIn[4], line 2\u001b[0m\n\u001b[0;32m      1\u001b[0m \u001b[38;5;66;03m# Load our data set\u001b[39;00m\n\u001b[1;32m----> 2\u001b[0m x_train \u001b[38;5;241m=\u001b[39m np\u001b[38;5;241m.\u001b[39marray([\u001b[38;5;241m1.0\u001b[39m, \u001b[38;5;241m2.0\u001b[39m]) \u001b[38;5;66;03m#features\u001b[39;00m\n\u001b[0;32m      3\u001b[0m y_train \u001b[38;5;241m=\u001b[39m np\u001b[38;5;241m.\u001b[39marray([\u001b[38;5;241m300.0\u001b[39m, \u001b[38;5;241m500.0\u001b[39m])\n",
      "\u001b[1;31mNameError\u001b[0m: name 'np' is not defined"
     ]
    }
   ],
   "source": [
    "# Load our data set\n",
    "x_train = np.array([1.0, 2.0]) #features\n",
    "y_train = np.array([300.0, 500.0]) #target value"
   ]
  },
  {
   "cell_type": "code",
   "execution_count": 5,
   "id": "452df178",
   "metadata": {},
   "outputs": [
    {
     "ename": "IndentationError",
     "evalue": "expected an indented block after 'for' statement on line 7 (2749037392.py, line 8)",
     "output_type": "error",
     "traceback": [
      "\u001b[1;36m  Cell \u001b[1;32mIn[5], line 8\u001b[1;36m\u001b[0m\n\u001b[1;33m    f_wb = w * x[i] + b\u001b[0m\n\u001b[1;37m    ^\u001b[0m\n\u001b[1;31mIndentationError\u001b[0m\u001b[1;31m:\u001b[0m expected an indented block after 'for' statement on line 7\n"
     ]
    }
   ],
   "source": [
    "#Function to calculate the cost\n",
    "def compute_cost(x, y, w, b):\n",
    " \n",
    " m = x.shape[0] \n",
    " cost = 0\n",
    " \n",
    " for i in range(m):\n",
    " f_wb = w * x[i] + b\n",
    " cost = cost + (f_wb - y[i])**2\n",
    " total_cost = 1 / (2 * m) * cost\n",
    " return total_cost\n"
   ]
  },
  {
   "cell_type": "code",
   "execution_count": 6,
   "id": "4ea53205",
   "metadata": {},
   "outputs": [
    {
     "ename": "IndentationError",
     "evalue": "expected an indented block after 'for' statement on line 18 (3956020277.py, line 19)",
     "output_type": "error",
     "traceback": [
      "\u001b[1;36m  Cell \u001b[1;32mIn[6], line 19\u001b[1;36m\u001b[0m\n\u001b[1;33m    f_wb = w * x[i] + b\u001b[0m\n\u001b[1;37m    ^\u001b[0m\n\u001b[1;31mIndentationError\u001b[0m\u001b[1;31m:\u001b[0m expected an indented block after 'for' statement on line 18\n"
     ]
    }
   ],
   "source": [
    "def compute_gradient(x, y, w, b): \n",
    " \"\"\"\n",
    " Computes the gradient for linear regression \n",
    " Args:\n",
    " x (ndarray (m,)): Data, m examples \n",
    " y (ndarray (m,)): target values\n",
    " w,b (scalar) : model parameters \n",
    " Returns\n",
    " dj_dw (scalar): The gradient of the cost w.r.t. the parameters w\n",
    " dj_db (scalar): The gradient of the cost w.r.t. the parameter b \n",
    " \"\"\"\n",
    " \n",
    " # Number of training examples\n",
    " m = x.shape[0] \n",
    " dj_dw = 0\n",
    " dj_db = 0\n",
    " \n",
    " for i in range(m): \n",
    " f_wb = w * x[i] + b \n",
    " dj_dw_i = (f_wb - y[i]) * x[i] \n",
    " dj_db_i = f_wb - y[i] \n",
    " dj_db += dj_db_i\n",
    " dj_dw += dj_dw_i \n",
    " dj_dw = dj_dw / m \n",
    " dj_db = dj_db / m \n",
    " \n",
    " return dj_dw, dj_db"
   ]
  },
  {
   "cell_type": "code",
   "execution_count": 7,
   "id": "f034167b",
   "metadata": {},
   "outputs": [
    {
     "ename": "NameError",
     "evalue": "name 'plt_gradients' is not defined",
     "output_type": "error",
     "traceback": [
      "\u001b[1;31m---------------------------------------------------------------------------\u001b[0m",
      "\u001b[1;31mNameError\u001b[0m                                 Traceback (most recent call last)",
      "Cell \u001b[1;32mIn[7], line 1\u001b[0m\n\u001b[1;32m----> 1\u001b[0m plt_gradients(x_train,y_train, compute_cost, compute_gradient)\n\u001b[0;32m      2\u001b[0m plt\u001b[38;5;241m.\u001b[39mshow()\n",
      "\u001b[1;31mNameError\u001b[0m: name 'plt_gradients' is not defined"
     ]
    }
   ],
   "source": [
    "plt_gradients(x_train,y_train, compute_cost, compute_gradient)\n",
    "plt.show()"
   ]
  },
  {
   "cell_type": "code",
   "execution_count": 8,
   "id": "1472df56",
   "metadata": {},
   "outputs": [
    {
     "ename": "SyntaxError",
     "evalue": "unterminated string literal (detected at line 63) (2177214013.py, line 63)",
     "output_type": "error",
     "traceback": [
      "\u001b[1;36m  Cell \u001b[1;32mIn[8], line 63\u001b[1;36m\u001b[0m\n\u001b[1;33m    print(f\"(w,b) found by gradient descent: ({w_final:8.4f},\u001b[0m\n\u001b[1;37m          ^\u001b[0m\n\u001b[1;31mSyntaxError\u001b[0m\u001b[1;31m:\u001b[0m unterminated string literal (detected at line 63)\n"
     ]
    }
   ],
   "source": [
    "def gradient_descent(x, y, w_in, b_in, alpha, num_iters, \n",
    "cost_function, gradient_function): \n",
    " \"\"\"\n",
    " Performs gradient descent to fit w,b. Updates w,b by taking \n",
    " num_iters gradient steps with learning rate alpha\n",
    " \n",
    " Args:\n",
    " x (ndarray (m,)) : Data, m examples \n",
    " y (ndarray (m,)) : target values\n",
    " w_in,b_in (scalar): initial values of model parameters \n",
    " alpha (float): Learning rate\n",
    " num_iters (int): number of iterations to run gradient descent\n",
    " cost_function: function to call to produce cost\n",
    " gradient_function: function to call to produce gradient\n",
    " \n",
    " Returns:\n",
    " w (scalar): Updated value of parameter after running gradient \n",
    "descent\n",
    " b (scalar): Updated value of parameter after running gradient \n",
    "descent\n",
    " J_history (List): History of cost values\n",
    " p_history (list): History of parameters [w,b] \n",
    " \"\"\"\n",
    " \n",
    " w = copy.deepcopy(w_in) # avoid modifying global w_in\n",
    " # An array to store cost J and w's at each iteration primarily for\n",
    "graphing later\n",
    " J_history = []\n",
    " p_history = []\n",
    " b = b_in\n",
    " w = w_in\n",
    " \n",
    " for i in range(num_iters):\n",
    " # Calculate the gradient and update the parameters using \n",
    "gradient_function\n",
    " dj_dw, dj_db = gradient_function(x, y, w , b) \n",
    " # Update Parameters using equation (3) above\n",
    " b = b - alpha * dj_db \n",
    " w = w - alpha * dj_dw \n",
    " # Save cost J at each iteration\n",
    " if i<100000: # prevent resource exhaustion \n",
    " J_history.append( cost_function(x, y, w , b))\n",
    " p_history.append([w,b])\n",
    " # Print cost every at intervals 10 times or as many iterations\n",
    "if < 10\n",
    " if i% math.ceil(num_iters/10) == 0:\n",
    " print(f\"Iteration {i:4}: Cost {J_history[-1]:0.2e} \",\n",
    " f\"dj_dw: {dj_dw: 0.3e}, dj_db: {dj_db: 0.3e} \",\n",
    " f\"w: {w: 0.3e}, b:{b: 0.5e}\")\n",
    " return w, b, J_history, p_history #return w and J,w history for \n",
    "graphing\n",
    "# initialize parameters\n",
    "w_init = 0\n",
    "b_init = 0\n",
    "# some gradient descent settings\n",
    "iterations = 10000\n",
    "tmp_alpha = 1.0e-2\n",
    "# run gradient descent\n",
    "w_final, b_final, J_hist, p_hist = gradient_descent(x_train ,y_train, \n",
    "w_init, b_init, tmp_alpha, \n",
    " iterations, \n",
    "compute_cost, compute_gradient)\n",
    "print(f\"(w,b) found by gradient descent: ({w_final:8.4f},\n",
    "{b_final:8.4f})\")\n",
    "Iteration 0: Cost 7.93e+04 dj_dw: -6.500e+02, dj_db: -4.000e+02 \n",
    "w: 6.500e+00, b: 4.00000e+00\n",
    "Iteration 1000: Cost 3.41e+00 dj_dw: -3.712e-01, dj_db: 6.007e-01 \n",
    "w: 1.949e+02, b: 1.08228e+02\n",
    "Iteration 2000: Cost 7.93e-01 dj_dw: -1.789e-01, dj_db: 2.895e-01 \n",
    "w: 1.975e+02, b: 1.03966e+02\n",
    "Iteration 3000: Cost 1.84e-01 dj_dw: -8.625e-02, dj_db: 1.396e-01 \n",
    "w: 1.988e+02, b: 1.01912e+02\n",
    "Iteration 4000: Cost 4.28e-02 dj_dw: -4.158e-02, dj_db: 6.727e-02 \n",
    "w: 1.994e+02, b: 1.00922e+02\n",
    "Iteration 5000: Cost 9.95e-03 dj_dw: -2.004e-02, dj_db: 3.243e-02 \n",
    "w: 1.997e+02, b: 1.00444e+02\n",
    "Iteration 6000: Cost 2.31e-03 dj_dw: -9.660e-03, dj_db: 1.563e-02 \n",
    "w: 1.999e+02, b: 1.00214e+02\n",
    "Iteration 7000: Cost 5.37e-04 dj_dw: -4.657e-03, dj_db: 7.535e-03 \n",
    "w: 1.999e+02, b: 1.00103e+02\n",
    "Iteration 8000: Cost 1.25e-04 dj_dw: -2.245e-03, dj_db: 3.632e-03 \n",
    "w: 2.000e+02, b: 1.00050e+02\n",
    "Iteration 9000: Cost 2.90e-05 dj_dw: -1.082e-03, dj_db: 1.751e-03 \n",
    "w: 2.000e+02, b: 1.00024e+02\n",
    "(w,b) found by gradient descent: (199.9929,100.0116)"
   ]
  },
  {
   "cell_type": "code",
   "execution_count": 9,
   "id": "57281e83",
   "metadata": {},
   "outputs": [
    {
     "ename": "SyntaxError",
     "evalue": "unterminated string literal (detected at line 6) (3239476908.py, line 6)",
     "output_type": "error",
     "traceback": [
      "\u001b[1;36m  Cell \u001b[1;32mIn[9], line 6\u001b[1;36m\u001b[0m\n\u001b[1;33m    ax1.set_title(\"Cost vs. iteration(start)\"); ax2.set_title(\"Cost vs.\u001b[0m\n\u001b[1;37m                                                              ^\u001b[0m\n\u001b[1;31mSyntaxError\u001b[0m\u001b[1;31m:\u001b[0m unterminated string literal (detected at line 6)\n"
     ]
    }
   ],
   "source": [
    "# plot cost versus iteration \n",
    "fig, (ax1, ax2) = plt.subplots(1, 2, constrained_layout=True, \n",
    "figsize=(12,4))\n",
    "ax1.plot(J_hist[:100])\n",
    "ax2.plot(1000 + np.arange(len(J_hist[1000:])), J_hist[1000:])\n",
    "ax1.set_title(\"Cost vs. iteration(start)\"); ax2.set_title(\"Cost vs. \n",
    "iteration (end)\")\n",
    "ax1.set_ylabel('Cost') ; ax2.set_ylabel('Cost') \n",
    "ax1.set_xlabel('iteration step') ; ax2.set_xlabel('iteration step') \n",
    "plt.show()"
   ]
  },
  {
   "cell_type": "code",
   "execution_count": 10,
   "id": "da64e80d",
   "metadata": {},
   "outputs": [
    {
     "ename": "SyntaxError",
     "evalue": "unterminated string literal (detected at line 1) (2170019477.py, line 1)",
     "output_type": "error",
     "traceback": [
      "\u001b[1;36m  Cell \u001b[1;32mIn[10], line 1\u001b[1;36m\u001b[0m\n\u001b[1;33m    print(f\"1000 sqft house prediction {w_final*1.0 + b_final:0.1f}\u001b[0m\n\u001b[1;37m          ^\u001b[0m\n\u001b[1;31mSyntaxError\u001b[0m\u001b[1;31m:\u001b[0m unterminated string literal (detected at line 1)\n"
     ]
    }
   ],
   "source": [
    "print(f\"1000 sqft house prediction {w_final*1.0 + b_final:0.1f}\n",
    "Thousand dollars\")\n",
    "print(f\"1200 sqft house prediction {w_final*1.2 + b_final:0.1f}\n",
    "Thousand dollars\")\n",
    "print(f\"2000 sqft house prediction {w_final*2.0 + b_final:0.1f}\n",
    "Thousand dollars\")\n",
    "1000 sqft house prediction 300.0 Thousand dollars\n",
    "1200 sqft house prediction 340.0 Thousand dollars\n",
    "2000 sqft house prediction 500.0 Thousand dollars"
   ]
  },
  {
   "cell_type": "code",
   "execution_count": 11,
   "id": "f8e8bf41",
   "metadata": {},
   "outputs": [
    {
     "ename": "NameError",
     "evalue": "name 'plt' is not defined",
     "output_type": "error",
     "traceback": [
      "\u001b[1;31m---------------------------------------------------------------------------\u001b[0m",
      "\u001b[1;31mNameError\u001b[0m                                 Traceback (most recent call last)",
      "Cell \u001b[1;32mIn[11], line 1\u001b[0m\n\u001b[1;32m----> 1\u001b[0m fig, ax \u001b[38;5;241m=\u001b[39m plt\u001b[38;5;241m.\u001b[39msubplots(\u001b[38;5;241m1\u001b[39m,\u001b[38;5;241m1\u001b[39m, figsize\u001b[38;5;241m=\u001b[39m(\u001b[38;5;241m12\u001b[39m, \u001b[38;5;241m6\u001b[39m))\n\u001b[0;32m      2\u001b[0m plt_contour_wgrad(x_train, y_train, p_hist, ax)\n",
      "\u001b[1;31mNameError\u001b[0m: name 'plt' is not defined"
     ]
    }
   ],
   "source": [
    "fig, ax = plt.subplots(1,1, figsize=(12, 6))\n",
    "plt_contour_wgrad(x_train, y_train, p_hist, ax)\n"
   ]
  },
  {
   "cell_type": "code",
   "execution_count": 12,
   "id": "39f2d8b3",
   "metadata": {},
   "outputs": [
    {
     "ename": "NameError",
     "evalue": "name 'plt' is not defined",
     "output_type": "error",
     "traceback": [
      "\u001b[1;31m---------------------------------------------------------------------------\u001b[0m",
      "\u001b[1;31mNameError\u001b[0m                                 Traceback (most recent call last)",
      "Cell \u001b[1;32mIn[12], line 1\u001b[0m\n\u001b[1;32m----> 1\u001b[0m fig, ax \u001b[38;5;241m=\u001b[39m plt\u001b[38;5;241m.\u001b[39msubplots(\u001b[38;5;241m1\u001b[39m,\u001b[38;5;241m1\u001b[39m, figsize\u001b[38;5;241m=\u001b[39m(\u001b[38;5;241m12\u001b[39m, \u001b[38;5;241m4\u001b[39m))\n\u001b[0;32m      2\u001b[0m plt_contour_wgrad(x_train, y_train, p_hist, ax, w_range\u001b[38;5;241m=\u001b[39m[\u001b[38;5;241m180\u001b[39m, \u001b[38;5;241m220\u001b[39m, \n\u001b[0;32m      3\u001b[0m \u001b[38;5;241m0.5\u001b[39m], b_range\u001b[38;5;241m=\u001b[39m[\u001b[38;5;241m80\u001b[39m, \u001b[38;5;241m120\u001b[39m, \u001b[38;5;241m0.5\u001b[39m],\n\u001b[0;32m      4\u001b[0m  contours\u001b[38;5;241m=\u001b[39m[\u001b[38;5;241m1\u001b[39m,\u001b[38;5;241m5\u001b[39m,\u001b[38;5;241m10\u001b[39m,\u001b[38;5;241m20\u001b[39m],resolution\u001b[38;5;241m=\u001b[39m\u001b[38;5;241m0.5\u001b[39m)\n",
      "\u001b[1;31mNameError\u001b[0m: name 'plt' is not defined"
     ]
    }
   ],
   "source": [
    "fig, ax = plt.subplots(1,1, figsize=(12, 4))\n",
    "plt_contour_wgrad(x_train, y_train, p_hist, ax, w_range=[180, 220, \n",
    "0.5], b_range=[80, 120, 0.5],\n",
    " contours=[1,5,10,20],resolution=0.5)"
   ]
  },
  {
   "cell_type": "code",
   "execution_count": 13,
   "id": "6a9e4778",
   "metadata": {},
   "outputs": [
    {
     "ename": "SyntaxError",
     "evalue": "invalid syntax (2387058191.py, line 12)",
     "output_type": "error",
     "traceback": [
      "\u001b[1;36m  Cell \u001b[1;32mIn[13], line 12\u001b[1;36m\u001b[0m\n\u001b[1;33m    Iteration 0: Cost 2.58e+05 dj_dw: -6.500e+02, dj_db: -4.000e+02\u001b[0m\n\u001b[1;37m              ^\u001b[0m\n\u001b[1;31mSyntaxError\u001b[0m\u001b[1;31m:\u001b[0m invalid syntax\n"
     ]
    }
   ],
   "source": [
    "# initialize parameters\n",
    "w_init = 0\n",
    "b_init = 0\n",
    "# set alpha to a large value\n",
    "iterations = 10\n",
    "tmp_alpha = 8.0e-1\n",
    "# run gradient descent\n",
    "w_final, b_final, J_hist, p_hist = gradient_descent(x_train ,y_train, \n",
    "w_init, b_init, tmp_alpha, \n",
    " iterations, \n",
    "compute_cost, compute_gradient)\n",
    "Iteration 0: Cost 2.58e+05 dj_dw: -6.500e+02, dj_db: -4.000e+02 \n",
    "w: 5.200e+02, b: 3.20000e+02\n",
    "Iteration 1: Cost 7.82e+05 dj_dw: 1.130e+03, dj_db: 7.000e+02 \n",
    "w: -3.840e+02, b:-2.40000e+02\n",
    "Iteration 2: Cost 2.37e+06 dj_dw: -1.970e+03, dj_db: -1.216e+03 \n",
    "w: 1.192e+03, b: 7.32800e+02\n",
    "Iteration 3: Cost 7.19e+06 dj_dw: 3.429e+03, dj_db: 2.121e+03 \n",
    "w: -1.551e+03, b:-9.63840e+02\n",
    "Iteration 4: Cost 2.18e+07 dj_dw: -5.974e+03, dj_db: -3.691e+03 \n",
    "w: 3.228e+03, b: 1.98886e+03\n",
    "Iteration 5: Cost 6.62e+07 dj_dw: 1.040e+04, dj_db: 6.431e+03 \n",
    "w: -5.095e+03, b:-3.15579e+03\n",
    "Iteration 6: Cost 2.01e+08 dj_dw: -1.812e+04, dj_db: -1.120e+04 \n",
    "w: 9.402e+03, b: 5.80237e+03\n",
    "Iteration 7: Cost 6.09e+08 dj_dw: 3.156e+04, dj_db: 1.950e+04 \n",
    "w: -1.584e+04, b:-9.80139e+03\n",
    "Iteration 8: Cost 1.85e+09 dj_dw: -5.496e+04, dj_db: -3.397e+04 \n",
    "w: 2.813e+04, b: 1.73730e+04\n",
    "Iteration 9: Cost 5.60e+09 dj_dw: 9.572e+04, dj_db: 5.916e+04 \n",
    "w: -4.845e+04, b:-2.99567e+04"
   ]
  },
  {
   "cell_type": "code",
   "execution_count": 14,
   "id": "a984f1dc",
   "metadata": {},
   "outputs": [
    {
     "ename": "NameError",
     "evalue": "name 'plt_divergence' is not defined",
     "output_type": "error",
     "traceback": [
      "\u001b[1;31m---------------------------------------------------------------------------\u001b[0m",
      "\u001b[1;31mNameError\u001b[0m                                 Traceback (most recent call last)",
      "Cell \u001b[1;32mIn[14], line 1\u001b[0m\n\u001b[1;32m----> 1\u001b[0m plt_divergence(p_hist, J_hist,x_train, y_train)\n\u001b[0;32m      2\u001b[0m plt\u001b[38;5;241m.\u001b[39mshow()\n",
      "\u001b[1;31mNameError\u001b[0m: name 'plt_divergence' is not defined"
     ]
    }
   ],
   "source": [
    "plt_divergence(p_hist, J_hist,x_train, y_train)\n",
    "plt.show()\n"
   ]
  },
  {
   "cell_type": "code",
   "execution_count": null,
   "id": "64411cfe",
   "metadata": {},
   "outputs": [],
   "source": []
  }
 ],
 "metadata": {
  "kernelspec": {
   "display_name": "Python 3 (ipykernel)",
   "language": "python",
   "name": "python3"
  },
  "language_info": {
   "codemirror_mode": {
    "name": "ipython",
    "version": 3
   },
   "file_extension": ".py",
   "mimetype": "text/x-python",
   "name": "python",
   "nbconvert_exporter": "python",
   "pygments_lexer": "ipython3",
   "version": "3.11.4"
  }
 },
 "nbformat": 4,
 "nbformat_minor": 5
}
